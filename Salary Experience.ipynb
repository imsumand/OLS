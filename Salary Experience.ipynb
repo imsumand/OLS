{
 "cells": [
  {
   "cell_type": "code",
   "execution_count": 1,
   "metadata": {},
   "outputs": [],
   "source": [
    "import pandas as pd\n",
    "import numpy as np\n",
    "import matplotlib.pyplot as plt"
   ]
  },
  {
   "cell_type": "code",
   "execution_count": 2,
   "metadata": {},
   "outputs": [],
   "source": [
    "data=pd.read_csv('Salary_Data.csv')"
   ]
  },
  {
   "cell_type": "code",
   "execution_count": 4,
   "metadata": {},
   "outputs": [
    {
     "data": {
      "text/html": [
       "<div>\n",
       "<style scoped>\n",
       "    .dataframe tbody tr th:only-of-type {\n",
       "        vertical-align: middle;\n",
       "    }\n",
       "\n",
       "    .dataframe tbody tr th {\n",
       "        vertical-align: top;\n",
       "    }\n",
       "\n",
       "    .dataframe thead th {\n",
       "        text-align: right;\n",
       "    }\n",
       "</style>\n",
       "<table border=\"1\" class=\"dataframe\">\n",
       "  <thead>\n",
       "    <tr style=\"text-align: right;\">\n",
       "      <th></th>\n",
       "      <th>YearsExperience</th>\n",
       "      <th>Salary</th>\n",
       "    </tr>\n",
       "  </thead>\n",
       "  <tbody>\n",
       "    <tr>\n",
       "      <td>21</td>\n",
       "      <td>7.1</td>\n",
       "      <td>98273.0</td>\n",
       "    </tr>\n",
       "    <tr>\n",
       "      <td>7</td>\n",
       "      <td>3.2</td>\n",
       "      <td>54445.0</td>\n",
       "    </tr>\n",
       "    <tr>\n",
       "      <td>25</td>\n",
       "      <td>9.0</td>\n",
       "      <td>105582.0</td>\n",
       "    </tr>\n",
       "    <tr>\n",
       "      <td>1</td>\n",
       "      <td>1.3</td>\n",
       "      <td>46205.0</td>\n",
       "    </tr>\n",
       "    <tr>\n",
       "      <td>23</td>\n",
       "      <td>8.2</td>\n",
       "      <td>113812.0</td>\n",
       "    </tr>\n",
       "  </tbody>\n",
       "</table>\n",
       "</div>"
      ],
      "text/plain": [
       "    YearsExperience    Salary\n",
       "21              7.1   98273.0\n",
       "7               3.2   54445.0\n",
       "25              9.0  105582.0\n",
       "1               1.3   46205.0\n",
       "23              8.2  113812.0"
      ]
     },
     "execution_count": 4,
     "metadata": {},
     "output_type": "execute_result"
    }
   ],
   "source": [
    "data.sample(5)"
   ]
  },
  {
   "cell_type": "code",
   "execution_count": 5,
   "metadata": {},
   "outputs": [
    {
     "data": {
      "text/plain": [
       "<matplotlib.collections.PathCollection at 0x1a114a11048>"
      ]
     },
     "execution_count": 5,
     "metadata": {},
     "output_type": "execute_result"
    },
    {
     "data": {
      "image/png": "[encoded data removed]",
      "text/plain": [
       "<Figure size 432x288 with 1 Axes>"
      ]
     },
     "metadata": {
      "needs_background": "light"
     },
     "output_type": "display_data"
    }
   ],
   "source": [
    "plt.scatter(data['YearsExperience'],data['Salary'])"
   ]
  },
  {
   "cell_type": "code",
   "execution_count": 6,
   "metadata": {},
   "outputs": [],
   "source": [
    "X=data.iloc[:,0:1]\n",
    "y=data.iloc[:,1]"
   ]
  },
  {
   "cell_type": "code",
   "execution_count": 97,
   "metadata": {},
   "outputs": [],
   "source": [
    "from sklearn.model_selection import train_test_split\n",
    "X_train,X_test,y_train,y_test=train_test_split(X,y,test_size=0.2)"
   ]
  },
  {
   "cell_type": "code",
   "execution_count": 113,
   "metadata": {},
   "outputs": [],
   "source": [
    "class LinearRegression:\n",
    "    def fit(self,data,X_train,y_train):\n",
    "        self.data=data\n",
    "        self.mean0=X_train['YearsExperience'].mean()\n",
    "        self.mean2=y_train.mean()\n",
    "        abc=0\n",
    "        efg=0\n",
    "        l=range(24)\n",
    "        for j in l:\n",
    "            data1=self.data.loc[[j]]\n",
    "            for i in X_train['YearsExperience']:\n",
    "                dif1=i-self.mean0\n",
    "                dif2=dif1**2\n",
    "            for i1 in y_train:\n",
    "                dif=i1-self.mean2\n",
    "            sum1=dif*dif1\n",
    "            sum2=efg+dif2\n",
    "            sum1=abc+sum1\n",
    "        self.m=sum1/sum2\n",
    "        self.b=self.mean2-self.m*self.mean0\n",
    "    def predict(self,X_test,y_test):\n",
    "        X_test=X_test\n",
    "        y_pred=[]\n",
    "        for i in X_test['YearsExperience']:\n",
    "            p=self.m*i+self.b\n",
    "            y_pred.append(p)\n",
    "        y_test=y_test\n",
    "        from sklearn.metrics import r2_score\n",
    "        print(r2_score(y_pred,y_test))\n",
    "        x=pd.DataFrame()\n",
    "        x['Years']=X_test['YearsExperience']\n",
    "        x['actual_salary']=y_test\n",
    "        x['predicted_salary']=y_pred\n",
    "        print(x)\n",
    "    def draw(self,X_train):\n",
    "        X_train=X_train\n",
    "        Y_pred=[]\n",
    "        for i in X_train['YearsExperience']:\n",
    "            c=self.m*i+self.b\n",
    "            Y_pred.append(c)\n",
    "        plt.plot(X_train,Y_pred,color='red')\n",
    "        plt.scatter(self.data['YearsExperience'],self.data['Salary'])"
   ]
  },
  {
   "cell_type": "code",
   "execution_count": 114,
   "metadata": {},
   "outputs": [
    {
     "name": "stdout",
     "output_type": "stream",
     "text": [
      "0.9393432776206415\n",
      "    Years  actual_salary  predicted_salary\n",
      "23    8.2       113812.0     107800.789976\n",
      "2     1.5        37731.0      32445.458234\n",
      "22    7.9       101302.0     104426.670644\n",
      "8     3.2        64445.0      51565.467780\n",
      "10    3.9        63218.0      59438.412888\n",
      "11    4.0        55794.0      60563.119332\n"
     ]
    },
    {
     "data": {
      "image/png": "[encoded data removed]",
      "text/plain": [
       "<Figure size 432x288 with 1 Axes>"
      ]
     },
     "metadata": {
      "needs_background": "light"
     },
     "output_type": "display_data"
    }
   ],
   "source": [
    "xy=LinearRegression()\n",
    "xy.fit(data,X_train,y_train)\n",
    "xy.predict(X_test,y_test)\n",
    "xy.draw(X_train)"
   ]
  }
 ],
 "metadata": {
  "kernelspec": {
   "display_name": "Python 3",
   "language": "python",
   "name": "python3"
  },
  "language_info": {
   "codemirror_mode": {
    "name": "ipython",
    "version": 3
   },
   "file_extension": ".py",
   "mimetype": "text/x-python",
   "name": "python",
   "nbconvert_exporter": "python",
   "pygments_lexer": "ipython3",
   "version": "3.7.4"
  }
 },
 "nbformat": 4,
 "nbformat_minor": 2
}
